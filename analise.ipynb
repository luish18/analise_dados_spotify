{
 "cells": [
  {
   "cell_type": "markdown",
   "metadata": {},
   "source": [
    "# Análise de dados Spotify"
   ]
  },
  {
   "cell_type": "markdown",
   "metadata": {},
   "source": [
    "Mini projeto para a análise do dataset de músicas do spotify descrito a seguir."
   ]
  },
  {
   "cell_type": "markdown",
   "metadata": {},
   "source": [
    "**Feature Explanations**\n",
    "Dataset contains 19.000 songs and has 15 features like duration ms, key, audio mode, acousticness, danceability, energy and so on .\n",
    "**duration_ms**: The duration of the track in milliseconds.\n",
    "\n",
    "**key**: The estimated overall key of the track. Integers map to pitches using standard Pitch Class notation . E.g. 0 = C, 1 = C♯/D♭, 2 = D, and so on. If no key was detected, the value is -1.\n",
    "\n",
    "**audio_mode**: Mode indicates the modality (major or minor) of a track, the type of scale from which its melodic content is derived. Major is represented by 1 and minor is 0.\n",
    "\n",
    "**time_signature**: An estimated overall time signature of a track. The time signature (meter) is a notational convention to specify how many beats are in each bar (or measure).\n",
    "\n",
    "**acousticness**: A confidence measure from 0.0 to 1.0 of whether the track is acoustic. 1.0 represents high confidence the track is acoustic.\n",
    "\n",
    "**danceability**: Danceability describes how suitable a track is for dancing based on a combination of musical elements including tempo, rhythm stability, beat strength, and overall regularity. A value of 0.0 is least danceable and 1.0 is most danceable.\n",
    "\n",
    "**energy**: Energy is a measure from 0.0 to 1.0 and represents a perceptual measure of intensity and activity. Typically, energetic tracks feel fast, loud, and noisy. For example, death metal has high energy, while a Bach prelude scores low on the scale.\n",
    "\n",
    "**instrumentalness**: Detects the presence of an audience in the recording. Higher liveness values represent an increased probability that the track was performed live. A value above 0.8 provides strong likelihood that the track is live.\n",
    "\n",
    "**loudness**: The overall loudness of a track in decibels (dB). Loudness values are averaged across the entire track and are useful for comparing relative loudness of tracks. Loudness is the quality of a sound that is the primary psychological correlate of physical strength (amplitude). Values typical range between -60 and 0 db.\n",
    "\n",
    "**speechiness**: Speechiness detects the presence of spoken words in a track. The more exclusively speech-like the recording (e.g. talk show, audio book, poetry), the closer to 1.0 the attribute value. Values above 0.66 describe tracks that are probably made entirely of spoken words. Values between 0.33 and 0.66 describe tracks that may contain both music and speech, either in sections or layered, including such cases as rap music.Values below 0.33 most likely represent music and other non-speech-like tracks.\n",
    "\n",
    "**audio_valence**: A measure from 0.0 to 1.0 describing the musical positiveness conveyed by a track. Tracks with high valence sound more positive (e.g. happy, cheerful, euphoric), while tracks with low valence sound more negative (e.g. sad, depressed, angry).\n",
    "**tempo**: The overall estimated tempo of a track in beats per minute (BPM). In musical terminology, tempo is the speed or pace of a given piece and derives directly from the average beat duration.\n",
    "\n",
    "**song_popularity**: Song ratings of spotify audience.\n",
    "\n",
    "**liveness**: Detects the presence of an audience in the recording. Higher liveness values represent an increased probability that the track was performed live."
   ]
  },
  {
   "cell_type": "markdown",
   "metadata": {},
   "source": [
    "## Importando bibliotecas e dataset"
   ]
  },
  {
   "cell_type": "code",
   "execution_count": 1,
   "metadata": {},
   "outputs": [],
   "source": [
    "import pandas as pd\n",
    "import matplotlib.pyplot as plt\n",
    "import seaborn as sns\n",
    "import numpy as np\n",
    "\n",
    "%matplotlib inline"
   ]
  },
  {
   "cell_type": "code",
   "execution_count": 2,
   "metadata": {},
   "outputs": [],
   "source": [
    "df = pd.read_csv('spotify.csv', index_col=0)\n",
    "df.set_index('song_name', inplace=True)"
   ]
  },
  {
   "cell_type": "markdown",
   "metadata": {},
   "source": [
    "## Análise inicial do dataset"
   ]
  },
  {
   "cell_type": "code",
   "execution_count": 3,
   "metadata": {},
   "outputs": [
    {
     "output_type": "execute_result",
     "data": {
      "text/plain": "                           song_popularity song_duration_ms  \\\nsong_name                                                     \nBoulevard of Broken Dreams              73           262333   \nIn The End                              66           216933   \nSeven Nation Army                       76           231733   \nBy The Way                              74           216933   \nHow You Remind Me                       56           223826   \nBring Me To Life                        80           235893   \nLast Resort                             81           199893   \nAre You Gonna Be My Girl                76           213800   \nMr. Brightside                          80           222586   \nSex on Fire                             81           203346   \n\n                                      acousticness danceability  \\\nsong_name                                                         \nBoulevard of Broken Dreams  0.005520000000000001kg   0.496mol/L   \nIn The End                                0.0103kg   0.542mol/L   \nSeven Nation Army                        0.00817kg   0.737mol/L   \nBy The Way                                0.0264kg   0.451mol/L   \nHow You Remind Me                       0.000954kg   0.447mol/L   \nBring Me To Life                         0.00895kg   0.316mol/L   \nLast Resort                             0.000504kg   0.581mol/L   \nAre You Gonna Be My Girl                 0.00148kg   0.613mol/L   \nMr. Brightside                           0.00108kg    0.33mol/L   \nSex on Fire                              0.00172kg   0.542mol/L   \n\n                                        energy instrumentalness   key  \\\nsong_name                                                               \nBoulevard of Broken Dreams               0.682         2.94e-05   8.0   \nIn The End                               0.853              0.0   3.0   \nSeven Nation Army                        0.463            0.447   0.0   \nBy The Way                                0.97          0.00355   0.0   \nHow You Remind Me           0.7659999999999999              0.0  10.0   \nBring Me To Life                         0.945         1.85e-06   4.0   \nLast Resort                              0.887          0.00111   4.0   \nAre You Gonna Be My Girl                 0.953         0.000582   2.0   \nMr. Brightside                           0.936              0.0   1.0   \nSex on Fire                              0.905           0.0104   9.0   \n\n                           liveness             loudness audio_mode  \\\nsong_name                                                             \nBoulevard of Broken Dreams   0.0589               -4.095          1   \nIn The End                    0.108               -6.407          0   \nSeven Nation Army             0.255  -7.8279999999999985          1   \nBy The Way                    0.102               -4.938          1   \nHow You Remind Me             0.113               -5.065          1   \nBring Me To Life              0.396               -3.169          0   \nLast Resort                   0.268               -3.659          0   \nAre You Gonna Be My Girl      0.152               -3.435          1   \nMr. Brightside               0.0926                -3.66          1   \nSex on Fire                   0.136               -5.653          1   \n\n                                     speechiness    tempo time_signature  \\\nsong_name                                                                  \nBoulevard of Broken Dreams                0.0294   167.06              4   \nIn The End                                0.0498  105.256              4   \nSeven Nation Army                         0.0792  123.881              4   \nBy The Way                                 0.107  122.444              4   \nHow You Remind Me                         0.0313  172.011              4   \nBring Me To Life                           0.124  189.931              4   \nLast Resort                               0.0624   90.578              4   \nAre You Gonna Be My Girl                  0.0855  105.046              4   \nMr. Brightside                            0.0917  148.112              4   \nSex on Fire                 0.054000000000000006  153.398              4   \n\n                            audio_valence  \nsong_name                                  \nBoulevard of Broken Dreams          0.474  \nIn The End                          0.370  \nSeven Nation Army                   0.324  \nBy The Way                          0.198  \nHow You Remind Me                   0.574  \nBring Me To Life                    0.320  \nLast Resort                         0.724  \nAre You Gonna Be My Girl            0.537  \nMr. Brightside                      0.234  \nSex on Fire                         0.374  ",
      "text/html": "<div>\n<style scoped>\n    .dataframe tbody tr th:only-of-type {\n        vertical-align: middle;\n    }\n\n    .dataframe tbody tr th {\n        vertical-align: top;\n    }\n\n    .dataframe thead th {\n        text-align: right;\n    }\n</style>\n<table border=\"1\" class=\"dataframe\">\n  <thead>\n    <tr style=\"text-align: right;\">\n      <th></th>\n      <th>song_popularity</th>\n      <th>song_duration_ms</th>\n      <th>acousticness</th>\n      <th>danceability</th>\n      <th>energy</th>\n      <th>instrumentalness</th>\n      <th>key</th>\n      <th>liveness</th>\n      <th>loudness</th>\n      <th>audio_mode</th>\n      <th>speechiness</th>\n      <th>tempo</th>\n      <th>time_signature</th>\n      <th>audio_valence</th>\n    </tr>\n    <tr>\n      <th>song_name</th>\n      <th></th>\n      <th></th>\n      <th></th>\n      <th></th>\n      <th></th>\n      <th></th>\n      <th></th>\n      <th></th>\n      <th></th>\n      <th></th>\n      <th></th>\n      <th></th>\n      <th></th>\n      <th></th>\n    </tr>\n  </thead>\n  <tbody>\n    <tr>\n      <th>Boulevard of Broken Dreams</th>\n      <td>73</td>\n      <td>262333</td>\n      <td>0.005520000000000001kg</td>\n      <td>0.496mol/L</td>\n      <td>0.682</td>\n      <td>2.94e-05</td>\n      <td>8.0</td>\n      <td>0.0589</td>\n      <td>-4.095</td>\n      <td>1</td>\n      <td>0.0294</td>\n      <td>167.06</td>\n      <td>4</td>\n      <td>0.474</td>\n    </tr>\n    <tr>\n      <th>In The End</th>\n      <td>66</td>\n      <td>216933</td>\n      <td>0.0103kg</td>\n      <td>0.542mol/L</td>\n      <td>0.853</td>\n      <td>0.0</td>\n      <td>3.0</td>\n      <td>0.108</td>\n      <td>-6.407</td>\n      <td>0</td>\n      <td>0.0498</td>\n      <td>105.256</td>\n      <td>4</td>\n      <td>0.370</td>\n    </tr>\n    <tr>\n      <th>Seven Nation Army</th>\n      <td>76</td>\n      <td>231733</td>\n      <td>0.00817kg</td>\n      <td>0.737mol/L</td>\n      <td>0.463</td>\n      <td>0.447</td>\n      <td>0.0</td>\n      <td>0.255</td>\n      <td>-7.8279999999999985</td>\n      <td>1</td>\n      <td>0.0792</td>\n      <td>123.881</td>\n      <td>4</td>\n      <td>0.324</td>\n    </tr>\n    <tr>\n      <th>By The Way</th>\n      <td>74</td>\n      <td>216933</td>\n      <td>0.0264kg</td>\n      <td>0.451mol/L</td>\n      <td>0.97</td>\n      <td>0.00355</td>\n      <td>0.0</td>\n      <td>0.102</td>\n      <td>-4.938</td>\n      <td>1</td>\n      <td>0.107</td>\n      <td>122.444</td>\n      <td>4</td>\n      <td>0.198</td>\n    </tr>\n    <tr>\n      <th>How You Remind Me</th>\n      <td>56</td>\n      <td>223826</td>\n      <td>0.000954kg</td>\n      <td>0.447mol/L</td>\n      <td>0.7659999999999999</td>\n      <td>0.0</td>\n      <td>10.0</td>\n      <td>0.113</td>\n      <td>-5.065</td>\n      <td>1</td>\n      <td>0.0313</td>\n      <td>172.011</td>\n      <td>4</td>\n      <td>0.574</td>\n    </tr>\n    <tr>\n      <th>Bring Me To Life</th>\n      <td>80</td>\n      <td>235893</td>\n      <td>0.00895kg</td>\n      <td>0.316mol/L</td>\n      <td>0.945</td>\n      <td>1.85e-06</td>\n      <td>4.0</td>\n      <td>0.396</td>\n      <td>-3.169</td>\n      <td>0</td>\n      <td>0.124</td>\n      <td>189.931</td>\n      <td>4</td>\n      <td>0.320</td>\n    </tr>\n    <tr>\n      <th>Last Resort</th>\n      <td>81</td>\n      <td>199893</td>\n      <td>0.000504kg</td>\n      <td>0.581mol/L</td>\n      <td>0.887</td>\n      <td>0.00111</td>\n      <td>4.0</td>\n      <td>0.268</td>\n      <td>-3.659</td>\n      <td>0</td>\n      <td>0.0624</td>\n      <td>90.578</td>\n      <td>4</td>\n      <td>0.724</td>\n    </tr>\n    <tr>\n      <th>Are You Gonna Be My Girl</th>\n      <td>76</td>\n      <td>213800</td>\n      <td>0.00148kg</td>\n      <td>0.613mol/L</td>\n      <td>0.953</td>\n      <td>0.000582</td>\n      <td>2.0</td>\n      <td>0.152</td>\n      <td>-3.435</td>\n      <td>1</td>\n      <td>0.0855</td>\n      <td>105.046</td>\n      <td>4</td>\n      <td>0.537</td>\n    </tr>\n    <tr>\n      <th>Mr. Brightside</th>\n      <td>80</td>\n      <td>222586</td>\n      <td>0.00108kg</td>\n      <td>0.33mol/L</td>\n      <td>0.936</td>\n      <td>0.0</td>\n      <td>1.0</td>\n      <td>0.0926</td>\n      <td>-3.66</td>\n      <td>1</td>\n      <td>0.0917</td>\n      <td>148.112</td>\n      <td>4</td>\n      <td>0.234</td>\n    </tr>\n    <tr>\n      <th>Sex on Fire</th>\n      <td>81</td>\n      <td>203346</td>\n      <td>0.00172kg</td>\n      <td>0.542mol/L</td>\n      <td>0.905</td>\n      <td>0.0104</td>\n      <td>9.0</td>\n      <td>0.136</td>\n      <td>-5.653</td>\n      <td>1</td>\n      <td>0.054000000000000006</td>\n      <td>153.398</td>\n      <td>4</td>\n      <td>0.374</td>\n    </tr>\n  </tbody>\n</table>\n</div>"
     },
     "metadata": {},
     "execution_count": 3
    }
   ],
   "source": [
    "df.head(10)"
   ]
  },
  {
   "cell_type": "code",
   "execution_count": 4,
   "metadata": {},
   "outputs": [
    {
     "output_type": "stream",
     "name": "stdout",
     "text": "<class 'pandas.core.frame.DataFrame'>\nIndex: 18835 entries, Boulevard of Broken Dreams to Up to Me\nData columns (total 14 columns):\n #   Column            Non-Null Count  Dtype  \n---  ------            --------------  -----  \n 0   song_popularity   18835 non-null  object \n 1   song_duration_ms  18835 non-null  object \n 2   acousticness      18835 non-null  object \n 3   danceability      18835 non-null  object \n 4   energy            18835 non-null  object \n 5   instrumentalness  18835 non-null  object \n 6   key               18835 non-null  float64\n 7   liveness          18835 non-null  object \n 8   loudness          18835 non-null  object \n 9   audio_mode        18835 non-null  object \n 10  speechiness       18835 non-null  object \n 11  tempo             18835 non-null  object \n 12  time_signature    18835 non-null  object \n 13  audio_valence     18834 non-null  float64\ndtypes: float64(2), object(12)\nmemory usage: 2.2+ MB\n"
    }
   ],
   "source": [
    "df.info()"
   ]
  },
  {
   "cell_type": "markdown",
   "metadata": {},
   "source": [
    "Apesar de as features serem apresentadas como sendo de natureza numérica, percebemos que quase todas são definidas como strings(`object`) com exceção de *audio_valence* e *key*. Também notamos como algumas features apresentam unidades erradas(*acousticness* e *danceability*)."
   ]
  },
  {
   "cell_type": "markdown",
   "metadata": {},
   "source": [
    "## Limpeza de dados"
   ]
  },
  {
   "cell_type": "markdown",
   "metadata": {},
   "source": [
    "Precisamos transformar os dados do tipo `object` em dados numéricos ou categóricos de acordo com sua funcionalidade. Para isso, precisamos eliminar os dados faltantes que, examinando o dataset, estão representados como `nao_sei`."
   ]
  },
  {
   "cell_type": "markdown",
   "metadata": {},
   "source": [
    "Antes de mudarmos os dados para numéricos, precisamos garantir que estão todos limpos de caracteres que não representem números."
   ]
  },
  {
   "cell_type": "code",
   "execution_count": 5,
   "metadata": {},
   "outputs": [],
   "source": [
    "df['song_popularity'].replace('nao_sei', None, inplace=True)\n",
    "df['song_popularity'] = df['song_popularity'].astype('int')"
   ]
  },
  {
   "cell_type": "code",
   "execution_count": 6,
   "metadata": {},
   "outputs": [],
   "source": [
    "df['song_duration_ms'].replace('nao_sei', None, inplace=True)\n",
    "df['song_duration_ms'] = df['song_duration_ms'].str.strip('kg')\n",
    "df['song_duration_ms'] = df['song_duration_ms'].astype('float')"
   ]
  },
  {
   "cell_type": "code",
   "execution_count": 7,
   "metadata": {},
   "outputs": [],
   "source": [
    "df['acousticness'].replace('nao_sei', None, inplace=True)\n",
    "df['acousticness'] = df['acousticness'].str.strip('kgmol/L')\n",
    "df['acousticness'] = df['acousticness'].astype('float')"
   ]
  },
  {
   "cell_type": "code",
   "execution_count": 8,
   "metadata": {},
   "outputs": [],
   "source": [
    "df['danceability'].replace('nao_sei', None, inplace=True)\n",
    "df['danceability'] = df['danceability'].str.strip('kgmol/L')\n",
    "df['danceability'] = df['danceability'].astype('float')"
   ]
  },
  {
   "cell_type": "code",
   "execution_count": 9,
   "metadata": {},
   "outputs": [],
   "source": [
    "df['energy'].replace('nao_sei', None, inplace=True)\n",
    "df['energy'] = df['energy'].astype('float')"
   ]
  },
  {
   "cell_type": "code",
   "execution_count": 10,
   "metadata": {},
   "outputs": [],
   "source": [
    "df['instrumentalness'].replace('nao_sei', None, inplace=True)\n",
    "df['instrumentalness'] = df['instrumentalness'].astype('float')"
   ]
  },
  {
   "cell_type": "code",
   "execution_count": 11,
   "metadata": {},
   "outputs": [],
   "source": [
    "df['liveness'].replace('nao_sei', None, inplace=True)\n",
    "df['liveness'] = df['instrumentalness'].astype('float')"
   ]
  },
  {
   "cell_type": "code",
   "execution_count": 12,
   "metadata": {},
   "outputs": [],
   "source": [
    "df['loudness'].replace('nao_sei', None, inplace=True)\n",
    "df['loudness'] = df['loudness'].astype('float')"
   ]
  },
  {
   "cell_type": "code",
   "execution_count": 13,
   "metadata": {},
   "outputs": [],
   "source": [
    "df['audio_mode'].replace('nao_sei', None, inplace=True)\n",
    "df['audio_mode'] = df['audio_mode'].astype('category')"
   ]
  },
  {
   "cell_type": "code",
   "execution_count": 14,
   "metadata": {},
   "outputs": [],
   "source": [
    "df['speechiness'].replace('nao_sei', None, inplace=True)\n",
    "df['speechiness'] = df['speechiness'].str.strip('nao_sei')\n",
    "df['speechiness'] = df['speechiness'].astype('float')"
   ]
  },
  {
   "cell_type": "code",
   "execution_count": 15,
   "metadata": {},
   "outputs": [],
   "source": [
    "df['tempo'].replace('nao_sei', None, inplace=True)\n",
    "df['tempo'] = df['tempo'].astype('category')"
   ]
  },
  {
   "cell_type": "code",
   "execution_count": 16,
   "metadata": {},
   "outputs": [],
   "source": [
    "df['time_signature'].replace('nao_sei', None, inplace=True)\n",
    "df['time_signature'] = df['time_signature'].astype('float')"
   ]
  },
  {
   "cell_type": "code",
   "execution_count": 17,
   "metadata": {},
   "outputs": [
    {
     "output_type": "stream",
     "name": "stdout",
     "text": "<class 'pandas.core.frame.DataFrame'>\nIndex: 18835 entries, Boulevard of Broken Dreams to Up to Me\nData columns (total 14 columns):\n #   Column            Non-Null Count  Dtype   \n---  ------            --------------  -----   \n 0   song_popularity   18835 non-null  int64   \n 1   song_duration_ms  18835 non-null  float64 \n 2   acousticness      18835 non-null  float64 \n 3   danceability      18835 non-null  float64 \n 4   energy            18835 non-null  float64 \n 5   instrumentalness  18835 non-null  float64 \n 6   key               18835 non-null  float64 \n 7   liveness          18835 non-null  float64 \n 8   loudness          18835 non-null  float64 \n 9   audio_mode        18835 non-null  category\n 10  speechiness       18835 non-null  float64 \n 11  tempo             18835 non-null  category\n 12  time_signature    18835 non-null  float64 \n 13  audio_valence     18834 non-null  float64 \ndtypes: category(2), float64(11), int64(1)\nmemory usage: 2.3+ MB\n"
    }
   ],
   "source": [
    "df.info()"
   ]
  },
  {
   "cell_type": "code",
   "execution_count": 19,
   "metadata": {},
   "outputs": [
    {
     "output_type": "execute_result",
     "data": {
      "text/plain": "song_popularity     False\nsong_duration_ms    False\nacousticness        False\ndanceability        False\nenergy              False\ninstrumentalness    False\nkey                 False\nliveness            False\nloudness            False\naudio_mode          False\nspeechiness         False\ntempo               False\ntime_signature      False\naudio_valence       False\ndtype: bool"
     },
     "metadata": {},
     "execution_count": 19
    }
   ],
   "source": [
    "df.dropna(inplace=True)\n",
    "df.isna().any()"
   ]
  },
  {
   "cell_type": "markdown",
   "metadata": {},
   "source": [
    "## Análise de dados categóricos"
   ]
  }
 ],
 "metadata": {
  "language_info": {
   "codemirror_mode": {
    "name": "ipython",
    "version": 3
   },
   "file_extension": ".py",
   "mimetype": "text/x-python",
   "name": "python",
   "nbconvert_exporter": "python",
   "pygments_lexer": "ipython3",
   "version": "3.7.6-final"
  },
  "orig_nbformat": 2,
  "kernelspec": {
   "name": "python3",
   "display_name": "Python 3"
  }
 },
 "nbformat": 4,
 "nbformat_minor": 2
}