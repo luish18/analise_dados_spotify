{
 "cells": [
  {
   "cell_type": "markdown",
   "metadata": {},
   "source": [
    "# Análise de dados Spotify"
   ]
  },
  {
   "cell_type": "markdown",
   "metadata": {},
   "source": [
    "Mini projeto para a análise do dataset de músicas do spotify descrito a seguir."
   ]
  },
  {
   "cell_type": "markdown",
   "metadata": {},
   "source": [
    "**Feature Explanations**\n",
    "Dataset contains 19.000 songs and has 15 features like duration ms, key, audio mode, acousticness, danceability, energy and so on .\n",
    "**duration_ms**: The duration of the track in milliseconds.\n",
    "\n",
    "**key**: The estimated overall key of the track. Integers map to pitches using standard Pitch Class notation . E.g. 0 = C, 1 = C♯/D♭, 2 = D, and so on. If no key was detected, the value is -1.\n",
    "\n",
    "**audio_mode**: Mode indicates the modality (major or minor) of a track, the type of scale from which its melodic content is derived. Major is represented by 1 and minor is 0.\n",
    "\n",
    "**time_signature**: An estimated overall time signature of a track. The time signature (meter) is a notational convention to specify how many beats are in each bar (or measure).\n",
    "**acousticness**: A confidence measure from 0.0 to 1.0 of whether the track is acoustic. 1.0 represents high confidence the track is acoustic.\n",
    "\n",
    "**danceability**: Danceability describes how suitable a track is for dancing based on a combination of musical elements including tempo, rhythm stability, beat strength, and overall regularity. A value of 0.0 is least danceable and 1.0 is most danceable.\n",
    "\n",
    "**energy**: Energy is a measure from 0.0 to 1.0 and represents a perceptual measure of intensity and activity. Typically, energetic tracks feel fast, loud, and noisy. For example, death metal has high energy, while a Bach prelude scores low on the scale.\n",
    "\n",
    "**instrumentalness**: Detects the presence of an audience in the recording. Higher liveness values represent an increased probability that the track was performed live. A value above 0.8 provides strong likelihood that the track is live.\n",
    "\n",
    "**loudness**: The overall loudness of a track in decibels (dB). Loudness values are averaged across the entire track and are useful for comparing relative loudness of tracks. Loudness is the quality of a sound that is the primary psychological correlate of physical strength (amplitude). Values typical range between -60 and 0 db.\n",
    "\n",
    "**speechiness**: Speechiness detects the presence of spoken words in a track. The more exclusively speech-like the recording (e.g. talk show, audio book, poetry), the closer to 1.0 the attribute value. Values above 0.66 describe tracks that are probably made entirely of spoken words. Values between 0.33 and 0.66 describe tracks that may contain both music and speech, either in sections or layered, including such cases as rap music.Values below 0.33 most likely represent music and other non-speech-like tracks.\n",
    "\n",
    "**audio_valence**: A measure from 0.0 to 1.0 describing the musical positiveness conveyed by a track. Tracks with high valence sound more positive (e.g. happy, cheerful, euphoric), while tracks with low valence sound more negative (e.g. sad, depressed, angry).\n",
    "**tempo**: The overall estimated tempo of a track in beats per minute (BPM). In musical terminology, tempo is the speed or pace of a given piece and derives directly from the average beat duration.\n",
    "\n",
    "**song_popularity**: Song ratings of spotify audience.\n",
    "\n",
    "**liveness**: Detects the presence of an audience in the recording. Higher liveness values represent an increased probability that the track was performed live."
   ]
  },
  {
   "cell_type": "markdown",
   "metadata": {},
   "source": [
    "## Importando bibliotecas e dataset"
   ]
  },
  {
   "cell_type": "code",
   "execution_count": 8,
   "metadata": {},
   "outputs": [],
   "source": [
    "import pandas as pd\n",
    "import matplotlib.pyplot as plt\n",
    "import seaborn as sns\n",
    "import numpy as np\n",
    "\n",
    "%matplotlib inline"
   ]
  },
  {
   "cell_type": "code",
   "execution_count": 9,
   "metadata": {},
   "outputs": [
    {
     "output_type": "execute_result",
     "data": {
      "text/plain": "                           song_popularity song_duration_ms  \\\nsong_name                                                     \nBoulevard of Broken Dreams              73           262333   \nIn The End                              66           216933   \nSeven Nation Army                       76           231733   \nBy The Way                              74           216933   \nHow You Remind Me                       56           223826   \n...                                    ...              ...   \nLet It Breathe                          60           159645   \nAnswers                                 60           205666   \nSudden Love (Acoustic)                  23           182211   \nGentle on My Mind                       55           352280   \nUp to Me                                60           193533   \n\n                                      acousticness             danceability  \\\nsong_name                                                                     \nBoulevard of Broken Dreams  0.005520000000000001kg               0.496mol/L   \nIn The End                                0.0103kg               0.542mol/L   \nSeven Nation Army                        0.00817kg               0.737mol/L   \nBy The Way                                0.0264kg               0.451mol/L   \nHow You Remind Me                       0.000954kg               0.447mol/L   \n...                                            ...                      ...   \nLet It Breathe                             0.893kg                 0.5mol/L   \nAnswers                                    0.765kg               0.495mol/L   \nSudden Love (Acoustic)                     0.847kg  0.7190000000000001mol/L   \nGentle on My Mind                          0.945kg               0.488mol/L   \nUp to Me                                   0.911kg                0.64mol/L   \n\n                                        energy instrumentalness   key  \\\nsong_name                                                               \nBoulevard of Broken Dreams               0.682         2.94e-05   8.0   \nIn The End                               0.853              0.0   3.0   \nSeven Nation Army                        0.463            0.447   0.0   \nBy The Way                                0.97          0.00355   0.0   \nHow You Remind Me           0.7659999999999999              0.0  10.0   \n...                                        ...              ...   ...   \nLet It Breathe                           0.151         6.54e-05  11.0   \nAnswers                                  0.161         1.33e-06  11.0   \nSudden Love (Acoustic)                   0.325              0.0   0.0   \nGentle on My Mind                        0.326           0.0157   3.0   \nUp to Me                                 0.381         0.000254   4.0   \n\n                           liveness             loudness audio_mode  \\\nsong_name                                                             \nBoulevard of Broken Dreams   0.0589               -4.095          1   \nIn The End                    0.108               -6.407          0   \nSeven Nation Army             0.255  -7.8279999999999985          1   \nBy The Way                    0.102               -4.938          1   \nHow You Remind Me             0.113               -5.065          1   \n...                             ...                  ...        ...   \nLet It Breathe                0.111              -16.107          1   \nAnswers                       0.105              -14.078          0   \nSudden Love (Acoustic)        0.125              -12.222          1   \nGentle on My Mind             0.119               -12.02          1   \nUp to Me                      0.104               -11.79          1   \n\n                           speechiness    tempo time_signature  audio_valence  \nsong_name                                                                      \nBoulevard of Broken Dreams      0.0294   167.06              4          0.474  \nIn The End                      0.0498  105.256              4          0.370  \nSeven Nation Army               0.0792  123.881              4          0.324  \nBy The Way                       0.107  122.444              4          0.198  \nHow You Remind Me               0.0313  172.011              4          0.574  \n...                                ...      ...            ...            ...  \nLet It Breathe                  0.0348  113.969              4          0.300  \nAnswers                         0.0301   94.286              4          0.265  \nSudden Love (Acoustic)          0.0355  130.534              4          0.286  \nGentle on My Mind               0.0328  106.063              4          0.323  \nUp to Me                        0.0302    91.49              4          0.581  \n\n[18835 rows x 14 columns]",
      "text/html": "<div>\n<style scoped>\n    .dataframe tbody tr th:only-of-type {\n        vertical-align: middle;\n    }\n\n    .dataframe tbody tr th {\n        vertical-align: top;\n    }\n\n    .dataframe thead th {\n        text-align: right;\n    }\n</style>\n<table border=\"1\" class=\"dataframe\">\n  <thead>\n    <tr style=\"text-align: right;\">\n      <th></th>\n      <th>song_popularity</th>\n      <th>song_duration_ms</th>\n      <th>acousticness</th>\n      <th>danceability</th>\n      <th>energy</th>\n      <th>instrumentalness</th>\n      <th>key</th>\n      <th>liveness</th>\n      <th>loudness</th>\n      <th>audio_mode</th>\n      <th>speechiness</th>\n      <th>tempo</th>\n      <th>time_signature</th>\n      <th>audio_valence</th>\n    </tr>\n    <tr>\n      <th>song_name</th>\n      <th></th>\n      <th></th>\n      <th></th>\n      <th></th>\n      <th></th>\n      <th></th>\n      <th></th>\n      <th></th>\n      <th></th>\n      <th></th>\n      <th></th>\n      <th></th>\n      <th></th>\n      <th></th>\n    </tr>\n  </thead>\n  <tbody>\n    <tr>\n      <th>Boulevard of Broken Dreams</th>\n      <td>73</td>\n      <td>262333</td>\n      <td>0.005520000000000001kg</td>\n      <td>0.496mol/L</td>\n      <td>0.682</td>\n      <td>2.94e-05</td>\n      <td>8.0</td>\n      <td>0.0589</td>\n      <td>-4.095</td>\n      <td>1</td>\n      <td>0.0294</td>\n      <td>167.06</td>\n      <td>4</td>\n      <td>0.474</td>\n    </tr>\n    <tr>\n      <th>In The End</th>\n      <td>66</td>\n      <td>216933</td>\n      <td>0.0103kg</td>\n      <td>0.542mol/L</td>\n      <td>0.853</td>\n      <td>0.0</td>\n      <td>3.0</td>\n      <td>0.108</td>\n      <td>-6.407</td>\n      <td>0</td>\n      <td>0.0498</td>\n      <td>105.256</td>\n      <td>4</td>\n      <td>0.370</td>\n    </tr>\n    <tr>\n      <th>Seven Nation Army</th>\n      <td>76</td>\n      <td>231733</td>\n      <td>0.00817kg</td>\n      <td>0.737mol/L</td>\n      <td>0.463</td>\n      <td>0.447</td>\n      <td>0.0</td>\n      <td>0.255</td>\n      <td>-7.8279999999999985</td>\n      <td>1</td>\n      <td>0.0792</td>\n      <td>123.881</td>\n      <td>4</td>\n      <td>0.324</td>\n    </tr>\n    <tr>\n      <th>By The Way</th>\n      <td>74</td>\n      <td>216933</td>\n      <td>0.0264kg</td>\n      <td>0.451mol/L</td>\n      <td>0.97</td>\n      <td>0.00355</td>\n      <td>0.0</td>\n      <td>0.102</td>\n      <td>-4.938</td>\n      <td>1</td>\n      <td>0.107</td>\n      <td>122.444</td>\n      <td>4</td>\n      <td>0.198</td>\n    </tr>\n    <tr>\n      <th>How You Remind Me</th>\n      <td>56</td>\n      <td>223826</td>\n      <td>0.000954kg</td>\n      <td>0.447mol/L</td>\n      <td>0.7659999999999999</td>\n      <td>0.0</td>\n      <td>10.0</td>\n      <td>0.113</td>\n      <td>-5.065</td>\n      <td>1</td>\n      <td>0.0313</td>\n      <td>172.011</td>\n      <td>4</td>\n      <td>0.574</td>\n    </tr>\n    <tr>\n      <th>...</th>\n      <td>...</td>\n      <td>...</td>\n      <td>...</td>\n      <td>...</td>\n      <td>...</td>\n      <td>...</td>\n      <td>...</td>\n      <td>...</td>\n      <td>...</td>\n      <td>...</td>\n      <td>...</td>\n      <td>...</td>\n      <td>...</td>\n      <td>...</td>\n    </tr>\n    <tr>\n      <th>Let It Breathe</th>\n      <td>60</td>\n      <td>159645</td>\n      <td>0.893kg</td>\n      <td>0.5mol/L</td>\n      <td>0.151</td>\n      <td>6.54e-05</td>\n      <td>11.0</td>\n      <td>0.111</td>\n      <td>-16.107</td>\n      <td>1</td>\n      <td>0.0348</td>\n      <td>113.969</td>\n      <td>4</td>\n      <td>0.300</td>\n    </tr>\n    <tr>\n      <th>Answers</th>\n      <td>60</td>\n      <td>205666</td>\n      <td>0.765kg</td>\n      <td>0.495mol/L</td>\n      <td>0.161</td>\n      <td>1.33e-06</td>\n      <td>11.0</td>\n      <td>0.105</td>\n      <td>-14.078</td>\n      <td>0</td>\n      <td>0.0301</td>\n      <td>94.286</td>\n      <td>4</td>\n      <td>0.265</td>\n    </tr>\n    <tr>\n      <th>Sudden Love (Acoustic)</th>\n      <td>23</td>\n      <td>182211</td>\n      <td>0.847kg</td>\n      <td>0.7190000000000001mol/L</td>\n      <td>0.325</td>\n      <td>0.0</td>\n      <td>0.0</td>\n      <td>0.125</td>\n      <td>-12.222</td>\n      <td>1</td>\n      <td>0.0355</td>\n      <td>130.534</td>\n      <td>4</td>\n      <td>0.286</td>\n    </tr>\n    <tr>\n      <th>Gentle on My Mind</th>\n      <td>55</td>\n      <td>352280</td>\n      <td>0.945kg</td>\n      <td>0.488mol/L</td>\n      <td>0.326</td>\n      <td>0.0157</td>\n      <td>3.0</td>\n      <td>0.119</td>\n      <td>-12.02</td>\n      <td>1</td>\n      <td>0.0328</td>\n      <td>106.063</td>\n      <td>4</td>\n      <td>0.323</td>\n    </tr>\n    <tr>\n      <th>Up to Me</th>\n      <td>60</td>\n      <td>193533</td>\n      <td>0.911kg</td>\n      <td>0.64mol/L</td>\n      <td>0.381</td>\n      <td>0.000254</td>\n      <td>4.0</td>\n      <td>0.104</td>\n      <td>-11.79</td>\n      <td>1</td>\n      <td>0.0302</td>\n      <td>91.49</td>\n      <td>4</td>\n      <td>0.581</td>\n    </tr>\n  </tbody>\n</table>\n<p>18835 rows × 14 columns</p>\n</div>"
     },
     "metadata": {},
     "execution_count": 9
    }
   ],
   "source": [
    "df = pd.read_csv('spotify.csv', index_col=0)\n",
    "df.set_index('song_name')"
   ]
  },
  {
   "cell_type": "markdown",
   "metadata": {},
   "source": [
    "## Análise inicial do dataset"
   ]
  },
  {
   "cell_type": "code",
   "execution_count": 10,
   "metadata": {},
   "outputs": [
    {
     "output_type": "execute_result",
     "data": {
      "text/plain": "                    song_name song_popularity song_duration_ms  \\\n0  Boulevard of Broken Dreams              73           262333   \n1                  In The End              66           216933   \n2           Seven Nation Army              76           231733   \n3                  By The Way              74           216933   \n4           How You Remind Me              56           223826   \n5            Bring Me To Life              80           235893   \n6                 Last Resort              81           199893   \n7    Are You Gonna Be My Girl              76           213800   \n8              Mr. Brightside              80           222586   \n9                 Sex on Fire              81           203346   \n\n             acousticness danceability              energy instrumentalness  \\\n0  0.005520000000000001kg   0.496mol/L               0.682         2.94e-05   \n1                0.0103kg   0.542mol/L               0.853              0.0   \n2               0.00817kg   0.737mol/L               0.463            0.447   \n3                0.0264kg   0.451mol/L                0.97          0.00355   \n4              0.000954kg   0.447mol/L  0.7659999999999999              0.0   \n5               0.00895kg   0.316mol/L               0.945         1.85e-06   \n6              0.000504kg   0.581mol/L               0.887          0.00111   \n7               0.00148kg   0.613mol/L               0.953         0.000582   \n8               0.00108kg    0.33mol/L               0.936              0.0   \n9               0.00172kg   0.542mol/L               0.905           0.0104   \n\n    key liveness             loudness audio_mode           speechiness  \\\n0   8.0   0.0589               -4.095          1                0.0294   \n1   3.0    0.108               -6.407          0                0.0498   \n2   0.0    0.255  -7.8279999999999985          1                0.0792   \n3   0.0    0.102               -4.938          1                 0.107   \n4  10.0    0.113               -5.065          1                0.0313   \n5   4.0    0.396               -3.169          0                 0.124   \n6   4.0    0.268               -3.659          0                0.0624   \n7   2.0    0.152               -3.435          1                0.0855   \n8   1.0   0.0926                -3.66          1                0.0917   \n9   9.0    0.136               -5.653          1  0.054000000000000006   \n\n     tempo time_signature  audio_valence  \n0   167.06              4          0.474  \n1  105.256              4          0.370  \n2  123.881              4          0.324  \n3  122.444              4          0.198  \n4  172.011              4          0.574  \n5  189.931              4          0.320  \n6   90.578              4          0.724  \n7  105.046              4          0.537  \n8  148.112              4          0.234  \n9  153.398              4          0.374  ",
      "text/html": "<div>\n<style scoped>\n    .dataframe tbody tr th:only-of-type {\n        vertical-align: middle;\n    }\n\n    .dataframe tbody tr th {\n        vertical-align: top;\n    }\n\n    .dataframe thead th {\n        text-align: right;\n    }\n</style>\n<table border=\"1\" class=\"dataframe\">\n  <thead>\n    <tr style=\"text-align: right;\">\n      <th></th>\n      <th>song_name</th>\n      <th>song_popularity</th>\n      <th>song_duration_ms</th>\n      <th>acousticness</th>\n      <th>danceability</th>\n      <th>energy</th>\n      <th>instrumentalness</th>\n      <th>key</th>\n      <th>liveness</th>\n      <th>loudness</th>\n      <th>audio_mode</th>\n      <th>speechiness</th>\n      <th>tempo</th>\n      <th>time_signature</th>\n      <th>audio_valence</th>\n    </tr>\n  </thead>\n  <tbody>\n    <tr>\n      <th>0</th>\n      <td>Boulevard of Broken Dreams</td>\n      <td>73</td>\n      <td>262333</td>\n      <td>0.005520000000000001kg</td>\n      <td>0.496mol/L</td>\n      <td>0.682</td>\n      <td>2.94e-05</td>\n      <td>8.0</td>\n      <td>0.0589</td>\n      <td>-4.095</td>\n      <td>1</td>\n      <td>0.0294</td>\n      <td>167.06</td>\n      <td>4</td>\n      <td>0.474</td>\n    </tr>\n    <tr>\n      <th>1</th>\n      <td>In The End</td>\n      <td>66</td>\n      <td>216933</td>\n      <td>0.0103kg</td>\n      <td>0.542mol/L</td>\n      <td>0.853</td>\n      <td>0.0</td>\n      <td>3.0</td>\n      <td>0.108</td>\n      <td>-6.407</td>\n      <td>0</td>\n      <td>0.0498</td>\n      <td>105.256</td>\n      <td>4</td>\n      <td>0.370</td>\n    </tr>\n    <tr>\n      <th>2</th>\n      <td>Seven Nation Army</td>\n      <td>76</td>\n      <td>231733</td>\n      <td>0.00817kg</td>\n      <td>0.737mol/L</td>\n      <td>0.463</td>\n      <td>0.447</td>\n      <td>0.0</td>\n      <td>0.255</td>\n      <td>-7.8279999999999985</td>\n      <td>1</td>\n      <td>0.0792</td>\n      <td>123.881</td>\n      <td>4</td>\n      <td>0.324</td>\n    </tr>\n    <tr>\n      <th>3</th>\n      <td>By The Way</td>\n      <td>74</td>\n      <td>216933</td>\n      <td>0.0264kg</td>\n      <td>0.451mol/L</td>\n      <td>0.97</td>\n      <td>0.00355</td>\n      <td>0.0</td>\n      <td>0.102</td>\n      <td>-4.938</td>\n      <td>1</td>\n      <td>0.107</td>\n      <td>122.444</td>\n      <td>4</td>\n      <td>0.198</td>\n    </tr>\n    <tr>\n      <th>4</th>\n      <td>How You Remind Me</td>\n      <td>56</td>\n      <td>223826</td>\n      <td>0.000954kg</td>\n      <td>0.447mol/L</td>\n      <td>0.7659999999999999</td>\n      <td>0.0</td>\n      <td>10.0</td>\n      <td>0.113</td>\n      <td>-5.065</td>\n      <td>1</td>\n      <td>0.0313</td>\n      <td>172.011</td>\n      <td>4</td>\n      <td>0.574</td>\n    </tr>\n    <tr>\n      <th>5</th>\n      <td>Bring Me To Life</td>\n      <td>80</td>\n      <td>235893</td>\n      <td>0.00895kg</td>\n      <td>0.316mol/L</td>\n      <td>0.945</td>\n      <td>1.85e-06</td>\n      <td>4.0</td>\n      <td>0.396</td>\n      <td>-3.169</td>\n      <td>0</td>\n      <td>0.124</td>\n      <td>189.931</td>\n      <td>4</td>\n      <td>0.320</td>\n    </tr>\n    <tr>\n      <th>6</th>\n      <td>Last Resort</td>\n      <td>81</td>\n      <td>199893</td>\n      <td>0.000504kg</td>\n      <td>0.581mol/L</td>\n      <td>0.887</td>\n      <td>0.00111</td>\n      <td>4.0</td>\n      <td>0.268</td>\n      <td>-3.659</td>\n      <td>0</td>\n      <td>0.0624</td>\n      <td>90.578</td>\n      <td>4</td>\n      <td>0.724</td>\n    </tr>\n    <tr>\n      <th>7</th>\n      <td>Are You Gonna Be My Girl</td>\n      <td>76</td>\n      <td>213800</td>\n      <td>0.00148kg</td>\n      <td>0.613mol/L</td>\n      <td>0.953</td>\n      <td>0.000582</td>\n      <td>2.0</td>\n      <td>0.152</td>\n      <td>-3.435</td>\n      <td>1</td>\n      <td>0.0855</td>\n      <td>105.046</td>\n      <td>4</td>\n      <td>0.537</td>\n    </tr>\n    <tr>\n      <th>8</th>\n      <td>Mr. Brightside</td>\n      <td>80</td>\n      <td>222586</td>\n      <td>0.00108kg</td>\n      <td>0.33mol/L</td>\n      <td>0.936</td>\n      <td>0.0</td>\n      <td>1.0</td>\n      <td>0.0926</td>\n      <td>-3.66</td>\n      <td>1</td>\n      <td>0.0917</td>\n      <td>148.112</td>\n      <td>4</td>\n      <td>0.234</td>\n    </tr>\n    <tr>\n      <th>9</th>\n      <td>Sex on Fire</td>\n      <td>81</td>\n      <td>203346</td>\n      <td>0.00172kg</td>\n      <td>0.542mol/L</td>\n      <td>0.905</td>\n      <td>0.0104</td>\n      <td>9.0</td>\n      <td>0.136</td>\n      <td>-5.653</td>\n      <td>1</td>\n      <td>0.054000000000000006</td>\n      <td>153.398</td>\n      <td>4</td>\n      <td>0.374</td>\n    </tr>\n  </tbody>\n</table>\n</div>"
     },
     "metadata": {},
     "execution_count": 10
    }
   ],
   "source": [
    "df.head(10)"
   ]
  },
  {
   "cell_type": "code",
   "execution_count": 11,
   "metadata": {},
   "outputs": [
    {
     "output_type": "stream",
     "name": "stdout",
     "text": "<class 'pandas.core.frame.DataFrame'>\nInt64Index: 18835 entries, 0 to 18834\nData columns (total 15 columns):\n #   Column            Non-Null Count  Dtype  \n---  ------            --------------  -----  \n 0   song_name         18835 non-null  object \n 1   song_popularity   18835 non-null  object \n 2   song_duration_ms  18835 non-null  object \n 3   acousticness      18835 non-null  object \n 4   danceability      18835 non-null  object \n 5   energy            18835 non-null  object \n 6   instrumentalness  18835 non-null  object \n 7   key               18835 non-null  float64\n 8   liveness          18835 non-null  object \n 9   loudness          18835 non-null  object \n 10  audio_mode        18835 non-null  object \n 11  speechiness       18835 non-null  object \n 12  tempo             18835 non-null  object \n 13  time_signature    18835 non-null  object \n 14  audio_valence     18834 non-null  float64\ndtypes: float64(2), object(13)\nmemory usage: 2.3+ MB\n"
    }
   ],
   "source": [
    "df.info()"
   ]
  },
  {
   "cell_type": "markdown",
   "metadata": {},
   "source": [
    "Apesar de as features serem apresentadas como sendo de natureza numérica, percebemos que quase todas são definidas como strings(`object`) com exceção de *audio_valence* e *key*. Também notamos como algumas features apresentam unidades erradas(*acousticness* e *danceability*)."
   ]
  },
  {
   "cell_type": "markdown",
   "metadata": {},
   "source": [
    "## Limpeza de dados"
   ]
  },
  {
   "cell_type": "markdown",
   "metadata": {},
   "source": [
    "Precisamos transformar os dados do tipo `object` em dados numéricos. Para isso, precisamos eliminar os dados faltantes que, examinando o dataset, estão representados como `nao_sei`."
   ]
  },
  {
   "cell_type": "markdown",
   "metadata": {},
   "source": [
    "Antes de mudarmos os dados para numéricos, precisamos garantir que estão todos limpos de caracteres que não representem números."
   ]
  },
  {
   "cell_type": "code",
   "execution_count": 12,
   "metadata": {},
   "outputs": [],
   "source": [
    "df['song_popularity'].replace('nao_sei', None, inplace=True)\n",
    "df['song_popularity'] = df['song_popularity'].astype('int')"
   ]
  },
  {
   "cell_type": "code",
   "execution_count": 13,
   "metadata": {},
   "outputs": [
    {
     "output_type": "error",
     "ename": "ValueError",
     "evalue": "invalid literal for int() with base 10: '0.8220000000000001kg'",
     "traceback": [
      "\u001b[0;31m---------------------------------------------------------------------------\u001b[0m",
      "\u001b[0;31mValueError\u001b[0m                                Traceback (most recent call last)",
      "\u001b[0;32m<ipython-input-13-7084f71ac1a0>\u001b[0m in \u001b[0;36m<module>\u001b[0;34m\u001b[0m\n\u001b[1;32m      1\u001b[0m \u001b[0mdf\u001b[0m\u001b[0;34m[\u001b[0m\u001b[0;34m'song_duration_ms'\u001b[0m\u001b[0;34m]\u001b[0m\u001b[0;34m.\u001b[0m\u001b[0mreplace\u001b[0m\u001b[0;34m(\u001b[0m\u001b[0;34m'nao_sei'\u001b[0m\u001b[0;34m,\u001b[0m \u001b[0;32mNone\u001b[0m\u001b[0;34m,\u001b[0m \u001b[0minplace\u001b[0m\u001b[0;34m=\u001b[0m\u001b[0;32mTrue\u001b[0m\u001b[0;34m)\u001b[0m\u001b[0;34m\u001b[0m\u001b[0;34m\u001b[0m\u001b[0m\n\u001b[0;32m----> 2\u001b[0;31m \u001b[0mdf\u001b[0m\u001b[0;34m[\u001b[0m\u001b[0;34m'song_duration_ms'\u001b[0m\u001b[0;34m]\u001b[0m \u001b[0;34m=\u001b[0m \u001b[0mdf\u001b[0m\u001b[0;34m[\u001b[0m\u001b[0;34m'song_duration_ms'\u001b[0m\u001b[0;34m]\u001b[0m\u001b[0;34m.\u001b[0m\u001b[0mastype\u001b[0m\u001b[0;34m(\u001b[0m\u001b[0;34m'int'\u001b[0m\u001b[0;34m)\u001b[0m\u001b[0;34m\u001b[0m\u001b[0;34m\u001b[0m\u001b[0m\n\u001b[0m",
      "\u001b[0;32m~/anaconda3/lib/python3.7/site-packages/pandas/core/generic.py\u001b[0m in \u001b[0;36mastype\u001b[0;34m(self, dtype, copy, errors)\u001b[0m\n\u001b[1;32m   5696\u001b[0m         \u001b[0;32melse\u001b[0m\u001b[0;34m:\u001b[0m\u001b[0;34m\u001b[0m\u001b[0;34m\u001b[0m\u001b[0m\n\u001b[1;32m   5697\u001b[0m             \u001b[0;31m# else, only a single dtype is given\u001b[0m\u001b[0;34m\u001b[0m\u001b[0;34m\u001b[0m\u001b[0;34m\u001b[0m\u001b[0m\n\u001b[0;32m-> 5698\u001b[0;31m             \u001b[0mnew_data\u001b[0m \u001b[0;34m=\u001b[0m \u001b[0mself\u001b[0m\u001b[0;34m.\u001b[0m\u001b[0m_data\u001b[0m\u001b[0;34m.\u001b[0m\u001b[0mastype\u001b[0m\u001b[0;34m(\u001b[0m\u001b[0mdtype\u001b[0m\u001b[0;34m=\u001b[0m\u001b[0mdtype\u001b[0m\u001b[0;34m,\u001b[0m \u001b[0mcopy\u001b[0m\u001b[0;34m=\u001b[0m\u001b[0mcopy\u001b[0m\u001b[0;34m,\u001b[0m \u001b[0merrors\u001b[0m\u001b[0;34m=\u001b[0m\u001b[0merrors\u001b[0m\u001b[0;34m)\u001b[0m\u001b[0;34m\u001b[0m\u001b[0;34m\u001b[0m\u001b[0m\n\u001b[0m\u001b[1;32m   5699\u001b[0m             \u001b[0;32mreturn\u001b[0m \u001b[0mself\u001b[0m\u001b[0;34m.\u001b[0m\u001b[0m_constructor\u001b[0m\u001b[0;34m(\u001b[0m\u001b[0mnew_data\u001b[0m\u001b[0;34m)\u001b[0m\u001b[0;34m.\u001b[0m\u001b[0m__finalize__\u001b[0m\u001b[0;34m(\u001b[0m\u001b[0mself\u001b[0m\u001b[0;34m)\u001b[0m\u001b[0;34m\u001b[0m\u001b[0;34m\u001b[0m\u001b[0m\n\u001b[1;32m   5700\u001b[0m \u001b[0;34m\u001b[0m\u001b[0m\n",
      "\u001b[0;32m~/anaconda3/lib/python3.7/site-packages/pandas/core/internals/managers.py\u001b[0m in \u001b[0;36mastype\u001b[0;34m(self, dtype, copy, errors)\u001b[0m\n\u001b[1;32m    580\u001b[0m \u001b[0;34m\u001b[0m\u001b[0m\n\u001b[1;32m    581\u001b[0m     \u001b[0;32mdef\u001b[0m \u001b[0mastype\u001b[0m\u001b[0;34m(\u001b[0m\u001b[0mself\u001b[0m\u001b[0;34m,\u001b[0m \u001b[0mdtype\u001b[0m\u001b[0;34m,\u001b[0m \u001b[0mcopy\u001b[0m\u001b[0;34m:\u001b[0m \u001b[0mbool\u001b[0m \u001b[0;34m=\u001b[0m \u001b[0;32mFalse\u001b[0m\u001b[0;34m,\u001b[0m \u001b[0merrors\u001b[0m\u001b[0;34m:\u001b[0m \u001b[0mstr\u001b[0m \u001b[0;34m=\u001b[0m \u001b[0;34m\"raise\"\u001b[0m\u001b[0;34m)\u001b[0m\u001b[0;34m:\u001b[0m\u001b[0;34m\u001b[0m\u001b[0;34m\u001b[0m\u001b[0m\n\u001b[0;32m--> 582\u001b[0;31m         \u001b[0;32mreturn\u001b[0m \u001b[0mself\u001b[0m\u001b[0;34m.\u001b[0m\u001b[0mapply\u001b[0m\u001b[0;34m(\u001b[0m\u001b[0;34m\"astype\"\u001b[0m\u001b[0;34m,\u001b[0m \u001b[0mdtype\u001b[0m\u001b[0;34m=\u001b[0m\u001b[0mdtype\u001b[0m\u001b[0;34m,\u001b[0m \u001b[0mcopy\u001b[0m\u001b[0;34m=\u001b[0m\u001b[0mcopy\u001b[0m\u001b[0;34m,\u001b[0m \u001b[0merrors\u001b[0m\u001b[0;34m=\u001b[0m\u001b[0merrors\u001b[0m\u001b[0;34m)\u001b[0m\u001b[0;34m\u001b[0m\u001b[0;34m\u001b[0m\u001b[0m\n\u001b[0m\u001b[1;32m    583\u001b[0m \u001b[0;34m\u001b[0m\u001b[0m\n\u001b[1;32m    584\u001b[0m     \u001b[0;32mdef\u001b[0m \u001b[0mconvert\u001b[0m\u001b[0;34m(\u001b[0m\u001b[0mself\u001b[0m\u001b[0;34m,\u001b[0m \u001b[0;34m**\u001b[0m\u001b[0mkwargs\u001b[0m\u001b[0;34m)\u001b[0m\u001b[0;34m:\u001b[0m\u001b[0;34m\u001b[0m\u001b[0;34m\u001b[0m\u001b[0m\n",
      "\u001b[0;32m~/anaconda3/lib/python3.7/site-packages/pandas/core/internals/managers.py\u001b[0m in \u001b[0;36mapply\u001b[0;34m(self, f, filter, **kwargs)\u001b[0m\n\u001b[1;32m    440\u001b[0m                 \u001b[0mapplied\u001b[0m \u001b[0;34m=\u001b[0m \u001b[0mb\u001b[0m\u001b[0;34m.\u001b[0m\u001b[0mapply\u001b[0m\u001b[0;34m(\u001b[0m\u001b[0mf\u001b[0m\u001b[0;34m,\u001b[0m \u001b[0;34m**\u001b[0m\u001b[0mkwargs\u001b[0m\u001b[0;34m)\u001b[0m\u001b[0;34m\u001b[0m\u001b[0;34m\u001b[0m\u001b[0m\n\u001b[1;32m    441\u001b[0m             \u001b[0;32melse\u001b[0m\u001b[0;34m:\u001b[0m\u001b[0;34m\u001b[0m\u001b[0;34m\u001b[0m\u001b[0m\n\u001b[0;32m--> 442\u001b[0;31m                 \u001b[0mapplied\u001b[0m \u001b[0;34m=\u001b[0m \u001b[0mgetattr\u001b[0m\u001b[0;34m(\u001b[0m\u001b[0mb\u001b[0m\u001b[0;34m,\u001b[0m \u001b[0mf\u001b[0m\u001b[0;34m)\u001b[0m\u001b[0;34m(\u001b[0m\u001b[0;34m**\u001b[0m\u001b[0mkwargs\u001b[0m\u001b[0;34m)\u001b[0m\u001b[0;34m\u001b[0m\u001b[0;34m\u001b[0m\u001b[0m\n\u001b[0m\u001b[1;32m    443\u001b[0m             \u001b[0mresult_blocks\u001b[0m \u001b[0;34m=\u001b[0m \u001b[0m_extend_blocks\u001b[0m\u001b[0;34m(\u001b[0m\u001b[0mapplied\u001b[0m\u001b[0;34m,\u001b[0m \u001b[0mresult_blocks\u001b[0m\u001b[0;34m)\u001b[0m\u001b[0;34m\u001b[0m\u001b[0;34m\u001b[0m\u001b[0m\n\u001b[1;32m    444\u001b[0m \u001b[0;34m\u001b[0m\u001b[0m\n",
      "\u001b[0;32m~/anaconda3/lib/python3.7/site-packages/pandas/core/internals/blocks.py\u001b[0m in \u001b[0;36mastype\u001b[0;34m(self, dtype, copy, errors)\u001b[0m\n\u001b[1;32m    623\u001b[0m             \u001b[0mvals1d\u001b[0m \u001b[0;34m=\u001b[0m \u001b[0mvalues\u001b[0m\u001b[0;34m.\u001b[0m\u001b[0mravel\u001b[0m\u001b[0;34m(\u001b[0m\u001b[0;34m)\u001b[0m\u001b[0;34m\u001b[0m\u001b[0;34m\u001b[0m\u001b[0m\n\u001b[1;32m    624\u001b[0m             \u001b[0;32mtry\u001b[0m\u001b[0;34m:\u001b[0m\u001b[0;34m\u001b[0m\u001b[0;34m\u001b[0m\u001b[0m\n\u001b[0;32m--> 625\u001b[0;31m                 \u001b[0mvalues\u001b[0m \u001b[0;34m=\u001b[0m \u001b[0mastype_nansafe\u001b[0m\u001b[0;34m(\u001b[0m\u001b[0mvals1d\u001b[0m\u001b[0;34m,\u001b[0m \u001b[0mdtype\u001b[0m\u001b[0;34m,\u001b[0m \u001b[0mcopy\u001b[0m\u001b[0;34m=\u001b[0m\u001b[0;32mTrue\u001b[0m\u001b[0;34m)\u001b[0m\u001b[0;34m\u001b[0m\u001b[0;34m\u001b[0m\u001b[0m\n\u001b[0m\u001b[1;32m    626\u001b[0m             \u001b[0;32mexcept\u001b[0m \u001b[0;34m(\u001b[0m\u001b[0mValueError\u001b[0m\u001b[0;34m,\u001b[0m \u001b[0mTypeError\u001b[0m\u001b[0;34m)\u001b[0m\u001b[0;34m:\u001b[0m\u001b[0;34m\u001b[0m\u001b[0;34m\u001b[0m\u001b[0m\n\u001b[1;32m    627\u001b[0m                 \u001b[0;31m# e.g. astype_nansafe can fail on object-dtype of strings\u001b[0m\u001b[0;34m\u001b[0m\u001b[0;34m\u001b[0m\u001b[0;34m\u001b[0m\u001b[0m\n",
      "\u001b[0;32m~/anaconda3/lib/python3.7/site-packages/pandas/core/dtypes/cast.py\u001b[0m in \u001b[0;36mastype_nansafe\u001b[0;34m(arr, dtype, copy, skipna)\u001b[0m\n\u001b[1;32m    872\u001b[0m         \u001b[0;31m# work around NumPy brokenness, #1987\u001b[0m\u001b[0;34m\u001b[0m\u001b[0;34m\u001b[0m\u001b[0;34m\u001b[0m\u001b[0m\n\u001b[1;32m    873\u001b[0m         \u001b[0;32mif\u001b[0m \u001b[0mnp\u001b[0m\u001b[0;34m.\u001b[0m\u001b[0missubdtype\u001b[0m\u001b[0;34m(\u001b[0m\u001b[0mdtype\u001b[0m\u001b[0;34m.\u001b[0m\u001b[0mtype\u001b[0m\u001b[0;34m,\u001b[0m \u001b[0mnp\u001b[0m\u001b[0;34m.\u001b[0m\u001b[0minteger\u001b[0m\u001b[0;34m)\u001b[0m\u001b[0;34m:\u001b[0m\u001b[0;34m\u001b[0m\u001b[0;34m\u001b[0m\u001b[0m\n\u001b[0;32m--> 874\u001b[0;31m             \u001b[0;32mreturn\u001b[0m \u001b[0mlib\u001b[0m\u001b[0;34m.\u001b[0m\u001b[0mastype_intsafe\u001b[0m\u001b[0;34m(\u001b[0m\u001b[0marr\u001b[0m\u001b[0;34m.\u001b[0m\u001b[0mravel\u001b[0m\u001b[0;34m(\u001b[0m\u001b[0;34m)\u001b[0m\u001b[0;34m,\u001b[0m \u001b[0mdtype\u001b[0m\u001b[0;34m)\u001b[0m\u001b[0;34m.\u001b[0m\u001b[0mreshape\u001b[0m\u001b[0;34m(\u001b[0m\u001b[0marr\u001b[0m\u001b[0;34m.\u001b[0m\u001b[0mshape\u001b[0m\u001b[0;34m)\u001b[0m\u001b[0;34m\u001b[0m\u001b[0;34m\u001b[0m\u001b[0m\n\u001b[0m\u001b[1;32m    875\u001b[0m \u001b[0;34m\u001b[0m\u001b[0m\n\u001b[1;32m    876\u001b[0m         \u001b[0;31m# if we have a datetime/timedelta array of objects\u001b[0m\u001b[0;34m\u001b[0m\u001b[0;34m\u001b[0m\u001b[0;34m\u001b[0m\u001b[0m\n",
      "\u001b[0;32mpandas/_libs/lib.pyx\u001b[0m in \u001b[0;36mpandas._libs.lib.astype_intsafe\u001b[0;34m()\u001b[0m\n",
      "\u001b[0;31mValueError\u001b[0m: invalid literal for int() with base 10: '0.8220000000000001kg'"
     ]
    }
   ],
   "source": [
    "df['song_duration_ms'].replace('nao_sei', None, inplace=True)\n",
    "df['song_duration_ms'] = df['song_duration_ms'].str.strip()\n",
    "df['song_duration_ms'] = df['song_duration_ms'].astype('int')"
   ]
  },
  {
   "cell_type": "code",
   "execution_count": null,
   "metadata": {},
   "outputs": [],
   "source": []
  }
 ],
 "metadata": {
  "language_info": {
   "codemirror_mode": {
    "name": "ipython",
    "version": 3
   },
   "file_extension": ".py",
   "mimetype": "text/x-python",
   "name": "python",
   "nbconvert_exporter": "python",
   "pygments_lexer": "ipython3",
   "version": "3.7.6-final"
  },
  "orig_nbformat": 2,
  "kernelspec": {
   "name": "python3",
   "display_name": "Python 3"
  }
 },
 "nbformat": 4,
 "nbformat_minor": 2
}